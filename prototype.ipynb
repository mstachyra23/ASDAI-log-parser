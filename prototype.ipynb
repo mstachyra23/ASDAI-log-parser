{
 "cells": [
  {
   "cell_type": "code",
   "execution_count": 39,
   "metadata": {},
   "outputs": [],
   "source": [
    "import csv\n",
    "import argparse\n",
    "import numpy as np\n",
    "import pandas as pd"
   ]
  },
  {
   "cell_type": "code",
   "execution_count": 54,
   "metadata": {},
   "outputs": [],
   "source": [
    "def extractLines(topics, file):\n",
    "    matched = []\n",
    "    line = file.readline()\n",
    "    while(line):\n",
    "        for t in topics:\n",
    "            if t in line:\n",
    "                matched.append(line)\n",
    "        line = f.readline()\n",
    "    return matched\n",
    "\n",
    "\n",
    "def createCSV(path, data, dialect='excel'):\n",
    "    with open(path, 'w', newline='') as csvfile:\n",
    "        filewriter = csv.writer(csvfile)\n",
    "        filewriter.writerow(data)\n",
    "\n",
    "\n",
    "def handleMultipleLogsFromLog():\n",
    "    #TODO"
   ]
  },
  {
   "cell_type": "code",
   "execution_count": 55,
   "metadata": {},
   "outputs": [],
   "source": [
    "fname = 'test.log'\n",
    "f = open(fname)\n",
    "topics = ['ROBOT_SUPPORT_STATE',\n",
    "          'VR_STATUS']"
   ]
  },
  {
   "cell_type": "code",
   "execution_count": 56,
   "metadata": {},
   "outputs": [],
   "source": [
    "createCSV('test.csv', handleMultipleLogs(extractLinesFromLog(topics, f)))"
   ]
  },
  {
   "cell_type": "code",
   "execution_count": 57,
   "metadata": {},
   "outputs": [
    {
     "name": "stdout",
     "output_type": "stream",
     "text": [
      "{\"datetime\": \"2022-04-01T00:08:32.070579\", \"packet\": { \"topic\": \"ROBOT_SUPPORT_STATE\", \"state\": \"INITIALIZED\", \"timestamp\": 1648771712.0678806, \"sender_id\": \"afd2ca8a-b133-11ec-8100-f35d4cfc10c0\" }}\n",
      "\n"
     ]
    }
   ],
   "source": [
    "with open('test.csv') as f:\n",
    "    reader = csv.reader(f)\n",
    "    for row in reader:\n",
    "        print(row[1])"
   ]
  },
  {
   "cell_type": "code",
   "execution_count": null,
   "metadata": {},
   "outputs": [],
   "source": []
  },
  {
   "cell_type": "code",
   "execution_count": null,
   "metadata": {},
   "outputs": [],
   "source": []
  }
 ],
 "metadata": {
  "kernelspec": {
   "display_name": "log-parsing-u3ZirKcz",
   "language": "python",
   "name": "python3"
  },
  "language_info": {
   "codemirror_mode": {
    "name": "ipython",
    "version": 3
   },
   "file_extension": ".py",
   "mimetype": "text/x-python",
   "name": "python",
   "nbconvert_exporter": "python",
   "pygments_lexer": "ipython3",
   "version": "3.8.10"
  },
  "orig_nbformat": 4,
  "vscode": {
   "interpreter": {
    "hash": "c276ad0e1e409ad8c70fa2fddc7d7a8c330339106549e9c4a5603b4d33bdef57"
   }
  }
 },
 "nbformat": 4,
 "nbformat_minor": 2
}
